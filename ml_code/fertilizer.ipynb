{
 "cells": [
  {
   "cell_type": "code",
   "execution_count": 15,
   "id": "de798857-774d-4a4c-ab23-ef7ab6b34a07",
   "metadata": {},
   "outputs": [],
   "source": [
    "import numpy as np # for complx mathematical operation\n",
    "import pandas as pd  # for data frame manipulation\n",
    "import matplotlib.pyplot as plt # for creating data visulization\n",
    "import seaborn as sns #for creating data visulization\n",
    "from ipywidgets import interact # for interactive analysis & also helps in interacting with python\n",
    "#for splitting data\n",
    "from sklearn.model_selection import train_test_split\n",
    "import pickle\n",
    "\n",
    "import warnings\n",
    "warnings.filterwarnings('ignore')"
   ]
  },
  {
   "cell_type": "code",
   "execution_count": 17,
   "id": "8a555826-d861-4700-b43a-d040c80ecbcb",
   "metadata": {},
   "outputs": [],
   "source": [
    "data = pd.read_csv(\"D:/PROJECTS/AGROWW/dataset/fertilizer.csv\")"
   ]
  },
  {
   "cell_type": "code",
   "execution_count": 18,
   "id": "a178a53f-54a9-4a00-a126-d17a3ebfeb0c",
   "metadata": {},
   "outputs": [
    {
     "data": {
      "text/plain": [
       "(205, 9)"
      ]
     },
     "execution_count": 18,
     "metadata": {},
     "output_type": "execute_result"
    }
   ],
   "source": [
    "data.shape"
   ]
  },
  {
   "cell_type": "code",
   "execution_count": 19,
   "id": "ec3c1593-dcb5-43b2-8171-77c3c4234d32",
   "metadata": {},
   "outputs": [
    {
     "data": {
      "text/html": [
       "<div>\n",
       "<style scoped>\n",
       "    .dataframe tbody tr th:only-of-type {\n",
       "        vertical-align: middle;\n",
       "    }\n",
       "\n",
       "    .dataframe tbody tr th {\n",
       "        vertical-align: top;\n",
       "    }\n",
       "\n",
       "    .dataframe thead th {\n",
       "        text-align: right;\n",
       "    }\n",
       "</style>\n",
       "<table border=\"1\" class=\"dataframe\">\n",
       "  <thead>\n",
       "    <tr style=\"text-align: right;\">\n",
       "      <th></th>\n",
       "      <th>Temparature</th>\n",
       "      <th>Humidity</th>\n",
       "      <th>Moisture</th>\n",
       "      <th>Soil Type</th>\n",
       "      <th>Crop Type</th>\n",
       "      <th>Nitrogen</th>\n",
       "      <th>Potassium</th>\n",
       "      <th>Phosphorous</th>\n",
       "      <th>Fertilizer Name</th>\n",
       "    </tr>\n",
       "  </thead>\n",
       "  <tbody>\n",
       "    <tr>\n",
       "      <th>0</th>\n",
       "      <td>26</td>\n",
       "      <td>52</td>\n",
       "      <td>38</td>\n",
       "      <td>Sandy</td>\n",
       "      <td>Maize</td>\n",
       "      <td>37</td>\n",
       "      <td>0</td>\n",
       "      <td>0</td>\n",
       "      <td>Urea</td>\n",
       "    </tr>\n",
       "    <tr>\n",
       "      <th>1</th>\n",
       "      <td>29</td>\n",
       "      <td>52</td>\n",
       "      <td>45</td>\n",
       "      <td>Loamy</td>\n",
       "      <td>Sugarcane</td>\n",
       "      <td>12</td>\n",
       "      <td>0</td>\n",
       "      <td>36</td>\n",
       "      <td>DAP</td>\n",
       "    </tr>\n",
       "    <tr>\n",
       "      <th>2</th>\n",
       "      <td>34</td>\n",
       "      <td>65</td>\n",
       "      <td>62</td>\n",
       "      <td>Black</td>\n",
       "      <td>Cotton</td>\n",
       "      <td>7</td>\n",
       "      <td>9</td>\n",
       "      <td>30</td>\n",
       "      <td>14-35-14</td>\n",
       "    </tr>\n",
       "    <tr>\n",
       "      <th>3</th>\n",
       "      <td>32</td>\n",
       "      <td>62</td>\n",
       "      <td>34</td>\n",
       "      <td>Red</td>\n",
       "      <td>Tobacco</td>\n",
       "      <td>22</td>\n",
       "      <td>0</td>\n",
       "      <td>20</td>\n",
       "      <td>28-28</td>\n",
       "    </tr>\n",
       "    <tr>\n",
       "      <th>4</th>\n",
       "      <td>28</td>\n",
       "      <td>54</td>\n",
       "      <td>46</td>\n",
       "      <td>Clayey</td>\n",
       "      <td>Paddy</td>\n",
       "      <td>35</td>\n",
       "      <td>0</td>\n",
       "      <td>0</td>\n",
       "      <td>Urea</td>\n",
       "    </tr>\n",
       "  </tbody>\n",
       "</table>\n",
       "</div>"
      ],
      "text/plain": [
       "   Temparature  Humidity   Moisture Soil Type  Crop Type  Nitrogen  Potassium  \\\n",
       "0           26         52        38     Sandy      Maize        37          0   \n",
       "1           29         52        45     Loamy  Sugarcane        12          0   \n",
       "2           34         65        62     Black     Cotton         7          9   \n",
       "3           32         62        34       Red    Tobacco        22          0   \n",
       "4           28         54        46    Clayey      Paddy        35          0   \n",
       "\n",
       "   Phosphorous Fertilizer Name  \n",
       "0            0            Urea  \n",
       "1           36             DAP  \n",
       "2           30        14-35-14  \n",
       "3           20           28-28  \n",
       "4            0            Urea  "
      ]
     },
     "execution_count": 19,
     "metadata": {},
     "output_type": "execute_result"
    }
   ],
   "source": [
    "data.head()"
   ]
  },
  {
   "cell_type": "code",
   "execution_count": 20,
   "id": "529eb7a1-7968-492c-bd84-5686c56c8a61",
   "metadata": {},
   "outputs": [
    {
     "data": {
      "text/plain": [
       "Index(['Temparature', 'Humidity ', 'Moisture', 'Soil Type', 'Crop Type',\n",
       "       'Nitrogen', 'Potassium', 'Phosphorous', 'Fertilizer Name'],\n",
       "      dtype='object')"
      ]
     },
     "execution_count": 20,
     "metadata": {},
     "output_type": "execute_result"
    }
   ],
   "source": [
    "data.columns"
   ]
  },
  {
   "cell_type": "code",
   "execution_count": 21,
   "id": "6b1b9d9d-3ac1-44c7-8a80-1ec79c3fcdeb",
   "metadata": {},
   "outputs": [
    {
     "name": "stdout",
     "output_type": "stream",
     "text": [
      "Lower and Upper Limits of Each Column:\n",
      "     Temparature  Humidity   Moisture  Nitrogen  Potassium  Phosphorous\n",
      "min         25.0       50.0      25.0       4.0        0.0          0.0\n",
      "max         38.0       72.0      65.0      42.0       19.0         42.0\n"
     ]
    }
   ],
   "source": [
    "import pandas as pd\n",
    "\n",
    "# Check the minimum and maximum values for each column\n",
    "limits = data.describe().loc[['min', 'max']]\n",
    "print(\"Lower and Upper Limits of Each Column:\")\n",
    "print(limits)\n"
   ]
  },
  {
   "cell_type": "code",
   "execution_count": 22,
   "id": "801db38a-8d79-47f7-967f-21da7afd4b69",
   "metadata": {},
   "outputs": [
    {
     "name": "stdout",
     "output_type": "stream",
     "text": [
      "<class 'pandas.core.frame.DataFrame'>\n",
      "RangeIndex: 205 entries, 0 to 204\n",
      "Data columns (total 9 columns):\n",
      " #   Column           Non-Null Count  Dtype \n",
      "---  ------           --------------  ----- \n",
      " 0   Temparature      205 non-null    int64 \n",
      " 1   Humidity         205 non-null    int64 \n",
      " 2   Moisture         205 non-null    int64 \n",
      " 3   Soil Type        205 non-null    object\n",
      " 4   Crop Type        205 non-null    object\n",
      " 5   Nitrogen         205 non-null    int64 \n",
      " 6   Potassium        205 non-null    int64 \n",
      " 7   Phosphorous      205 non-null    int64 \n",
      " 8   Fertilizer Name  205 non-null    object\n",
      "dtypes: int64(6), object(3)\n",
      "memory usage: 14.5+ KB\n"
     ]
    }
   ],
   "source": [
    "data.info()"
   ]
  },
  {
   "cell_type": "code",
   "execution_count": 23,
   "id": "821e6e78-4b8f-4af1-8233-d7fd2ecd5530",
   "metadata": {},
   "outputs": [
    {
     "data": {
      "text/html": [
       "<div>\n",
       "<style scoped>\n",
       "    .dataframe tbody tr th:only-of-type {\n",
       "        vertical-align: middle;\n",
       "    }\n",
       "\n",
       "    .dataframe tbody tr th {\n",
       "        vertical-align: top;\n",
       "    }\n",
       "\n",
       "    .dataframe thead th {\n",
       "        text-align: right;\n",
       "    }\n",
       "</style>\n",
       "<table border=\"1\" class=\"dataframe\">\n",
       "  <thead>\n",
       "    <tr style=\"text-align: right;\">\n",
       "      <th></th>\n",
       "      <th>Temparature</th>\n",
       "      <th>Humidity</th>\n",
       "      <th>Moisture</th>\n",
       "      <th>Nitrogen</th>\n",
       "      <th>Potassium</th>\n",
       "      <th>Phosphorous</th>\n",
       "    </tr>\n",
       "  </thead>\n",
       "  <tbody>\n",
       "    <tr>\n",
       "      <th>count</th>\n",
       "      <td>205.000000</td>\n",
       "      <td>205.000000</td>\n",
       "      <td>205.000000</td>\n",
       "      <td>205.000000</td>\n",
       "      <td>205.000000</td>\n",
       "      <td>205.000000</td>\n",
       "    </tr>\n",
       "    <tr>\n",
       "      <th>mean</th>\n",
       "      <td>30.204878</td>\n",
       "      <td>58.990244</td>\n",
       "      <td>43.590244</td>\n",
       "      <td>18.814634</td>\n",
       "      <td>3.219512</td>\n",
       "      <td>18.634146</td>\n",
       "    </tr>\n",
       "    <tr>\n",
       "      <th>std</th>\n",
       "      <td>3.592882</td>\n",
       "      <td>5.973791</td>\n",
       "      <td>11.236665</td>\n",
       "      <td>11.273115</td>\n",
       "      <td>5.571778</td>\n",
       "      <td>13.494654</td>\n",
       "    </tr>\n",
       "    <tr>\n",
       "      <th>min</th>\n",
       "      <td>25.000000</td>\n",
       "      <td>50.000000</td>\n",
       "      <td>25.000000</td>\n",
       "      <td>4.000000</td>\n",
       "      <td>0.000000</td>\n",
       "      <td>0.000000</td>\n",
       "    </tr>\n",
       "    <tr>\n",
       "      <th>25%</th>\n",
       "      <td>27.000000</td>\n",
       "      <td>54.000000</td>\n",
       "      <td>34.000000</td>\n",
       "      <td>10.000000</td>\n",
       "      <td>0.000000</td>\n",
       "      <td>9.000000</td>\n",
       "    </tr>\n",
       "    <tr>\n",
       "      <th>50%</th>\n",
       "      <td>30.000000</td>\n",
       "      <td>60.000000</td>\n",
       "      <td>42.000000</td>\n",
       "      <td>14.000000</td>\n",
       "      <td>0.000000</td>\n",
       "      <td>18.000000</td>\n",
       "    </tr>\n",
       "    <tr>\n",
       "      <th>75%</th>\n",
       "      <td>33.000000</td>\n",
       "      <td>64.000000</td>\n",
       "      <td>51.000000</td>\n",
       "      <td>24.000000</td>\n",
       "      <td>7.000000</td>\n",
       "      <td>30.000000</td>\n",
       "    </tr>\n",
       "    <tr>\n",
       "      <th>max</th>\n",
       "      <td>38.000000</td>\n",
       "      <td>72.000000</td>\n",
       "      <td>65.000000</td>\n",
       "      <td>42.000000</td>\n",
       "      <td>19.000000</td>\n",
       "      <td>42.000000</td>\n",
       "    </tr>\n",
       "  </tbody>\n",
       "</table>\n",
       "</div>"
      ],
      "text/plain": [
       "       Temparature   Humidity     Moisture    Nitrogen   Potassium  \\\n",
       "count   205.000000  205.000000  205.000000  205.000000  205.000000   \n",
       "mean     30.204878   58.990244   43.590244   18.814634    3.219512   \n",
       "std       3.592882    5.973791   11.236665   11.273115    5.571778   \n",
       "min      25.000000   50.000000   25.000000    4.000000    0.000000   \n",
       "25%      27.000000   54.000000   34.000000   10.000000    0.000000   \n",
       "50%      30.000000   60.000000   42.000000   14.000000    0.000000   \n",
       "75%      33.000000   64.000000   51.000000   24.000000    7.000000   \n",
       "max      38.000000   72.000000   65.000000   42.000000   19.000000   \n",
       "\n",
       "       Phosphorous  \n",
       "count   205.000000  \n",
       "mean     18.634146  \n",
       "std      13.494654  \n",
       "min       0.000000  \n",
       "25%       9.000000  \n",
       "50%      18.000000  \n",
       "75%      30.000000  \n",
       "max      42.000000  "
      ]
     },
     "execution_count": 23,
     "metadata": {},
     "output_type": "execute_result"
    }
   ],
   "source": [
    "data.describe()"
   ]
  },
  {
   "cell_type": "code",
   "execution_count": 24,
   "id": "2635e939-3f05-4874-8cff-8d5a39c30dba",
   "metadata": {},
   "outputs": [
    {
     "data": {
      "text/plain": [
       "Temparature        0\n",
       "Humidity           0\n",
       "Moisture           0\n",
       "Soil Type          0\n",
       "Crop Type          0\n",
       "Nitrogen           0\n",
       "Potassium          0\n",
       "Phosphorous        0\n",
       "Fertilizer Name    0\n",
       "dtype: int64"
      ]
     },
     "execution_count": 24,
     "metadata": {},
     "output_type": "execute_result"
    }
   ],
   "source": [
    "data.isnull().sum()"
   ]
  },
  {
   "cell_type": "code",
   "execution_count": 25,
   "id": "907a5839-a336-4b49-bec4-ce7421337c57",
   "metadata": {},
   "outputs": [
    {
     "data": {
      "text/plain": [
       "Index(['Temparature', 'Humidity ', 'Moisture', 'Soil Type', 'Crop Type',\n",
       "       'Nitrogen', 'Potassium', 'Phosphorous', 'Fertilizer Name'],\n",
       "      dtype='object')"
      ]
     },
     "execution_count": 25,
     "metadata": {},
     "output_type": "execute_result"
    }
   ],
   "source": [
    "data.columns"
   ]
  },
  {
   "cell_type": "code",
   "execution_count": 26,
   "id": "291a738a-525e-44c1-a95d-bfb8e304262f",
   "metadata": {},
   "outputs": [
    {
     "data": {
      "text/plain": [
       "Temparature        False\n",
       "Humidity           False\n",
       "Moisture           False\n",
       "Soil Type          False\n",
       "Crop Type          False\n",
       "Nitrogen           False\n",
       "Potassium          False\n",
       "Phosphorous        False\n",
       "Fertilizer Name    False\n",
       "dtype: bool"
      ]
     },
     "execution_count": 26,
     "metadata": {},
     "output_type": "execute_result"
    }
   ],
   "source": [
    "data.isnull().any()"
   ]
  },
  {
   "cell_type": "code",
   "execution_count": 27,
   "id": "e93e32e3-8ccb-4b6f-ad5d-f1b7b02958c9",
   "metadata": {},
   "outputs": [
    {
     "name": "stdout",
     "output_type": "stream",
     "text": [
      "Number of Fertilizers:  7\n",
      "List of Fertilizers:  ['Urea' 'DAP' '14-35-14' '28-28' '17-17-17' '20-20' '10-26-26']\n"
     ]
    }
   ],
   "source": [
    "#target Variable - Type of Fertilizer\n",
    "fertilizers = data['Fertilizer Name'].unique()\n",
    "print(\"Number of Fertilizers: \",len(fertilizers))\n",
    "print(\"List of Fertilizers: \",fertilizers)"
   ]
  },
  {
   "cell_type": "code",
   "execution_count": 37,
   "id": "b8fe3230-9f78-4b67-ab62-b27adcf3d485",
   "metadata": {},
   "outputs": [
    {
     "data": {
      "text/plain": [
       "Fertilizer Name\n",
       "Urea        44\n",
       "DAP         38\n",
       "28-28       36\n",
       "20-20       30\n",
       "14-35-14    29\n",
       "17-17-17    18\n",
       "10-26-26    10\n",
       "Name: count, dtype: int64"
      ]
     },
     "execution_count": 37,
     "metadata": {},
     "output_type": "execute_result"
    }
   ],
   "source": [
    "data[\"Fertilizer Name\"].value_counts()"
   ]
  },
  {
   "cell_type": "code",
   "execution_count": 40,
   "id": "136700e8-1722-45f8-a2bf-5a89621a41d9",
   "metadata": {},
   "outputs": [
    {
     "data": {
      "image/png": "[encoded data removed]",
      "text/plain": [
       "<Figure size 640x480 with 1 Axes>"
      ]
     },
     "metadata": {},
     "output_type": "display_data"
    }
   ],
   "source": [
    "fig,ax=plt.subplots()\n",
    "ax.pie(data['Fertilizer Name'].value_counts(),labels=list(data['Fertilizer Name'].unique()),radius=2,autopct=\"%1.2f%%\",shadow=True)\n",
    "plt.show()"
   ]
  },
  {
   "cell_type": "code",
   "execution_count": 43,
   "id": "7eef80ce-7564-4c43-b141-af80af4ae9f7",
   "metadata": {},
   "outputs": [
    {
     "data": {
      "image/png": "[encoded data removed]",
      "text/plain": [
       "<Figure size 1300x1300 with 2 Axes>"
      ]
     },
     "metadata": {},
     "output_type": "display_data"
    }
   ],
   "source": [
    "plt.figure(figsize=(13,13))\n",
    "sns.heatmap(data[data.columns.difference([\"Soil Type\",\"Crop Type\",\"Fertilizer Name\"])].corr(),center=0,annot=True)\n",
    "plt.show()"
   ]
  },
  {
   "cell_type": "code",
   "execution_count": 44,
   "id": "832ac3b6-fcb6-46f3-b864-b5398f969fbf",
   "metadata": {},
   "outputs": [
    {
     "name": "stdout",
     "output_type": "stream",
     "text": [
      "Shape of x: (205, 6)\n",
      "Shape of y: (205,)\n"
     ]
    }
   ],
   "source": [
    "#PREPROCESSING\n",
    "\n",
    "y = data['Fertilizer Name']\n",
    "x = data[['Temparature','Humidity ','Moisture', 'Nitrogen', 'Potassium','Phosphorous']]  \n",
    "print(\"Shape of x:\", x.shape)\n",
    "print(\"Shape of y:\", y.shape)"
   ]
  },
  {
   "cell_type": "code",
   "execution_count": 45,
   "id": "f0eb083c-ed6f-4aad-bee3-66398b34154e",
   "metadata": {},
   "outputs": [
    {
     "name": "stdout",
     "output_type": "stream",
     "text": [
      "The Shape of x train: (143, 6)\n",
      "The Shape of x test: (62, 6)\n",
      "The Shape of y train: (143,)\n",
      "The Shape of y test (62,)\n"
     ]
    }
   ],
   "source": [
    "#Lets create Training and Testing Sets for validation of Results\n",
    "from sklearn.model_selection import train_test_split\n",
    "x_train,x_test,y_train,y_test=train_test_split(x,y, test_size=0.3, random_state=10) # 80% Data will be alotted into trainins set & remaining 20% will be sent into testing set\n",
    "print(\"The Shape of x train:\", x_train.shape)\n",
    "print(\"The Shape of x test:\",x_test.shape)\n",
    "print(\"The Shape of y train:\",y_train.shape)\n",
    "print(\"The Shape of y test\",y_test.shape)"
   ]
  },
  {
   "cell_type": "code",
   "execution_count": 49,
   "id": "172fcf8b-3555-4142-9e68-55c2459a748f",
   "metadata": {},
   "outputs": [],
   "source": [
    "from sklearn.linear_model import LogisticRegression  # Importing LogisticRegression from SKlearn to make our predective model\n",
    "\n",
    "model = LogisticRegression(solver = 'liblinear') # Storing our Algorithm in varriable name model\n",
    "model.fit(x_train, y_train) # Our model hase been trained from the data stored into training data set, Our model is fully trained now , further function used to predection\n",
    "y_pred = model.predict(x_test) #  we predict our model for x_test data set and further stored it into y_pred variable\n",
    "     "
   ]
  },
  {
   "cell_type": "code",
   "execution_count": 51,
   "id": "33484fc0-11c9-42c9-9900-916eace3e85d",
   "metadata": {},
   "outputs": [
    {
     "name": "stdout",
     "output_type": "stream",
     "text": [
      "              precision    recall  f1-score   support\n",
      "\n",
      "    10-26-26       1.00      1.00      1.00         4\n",
      "    14-35-14       1.00      1.00      1.00        10\n",
      "    17-17-17       1.00      1.00      1.00         4\n",
      "       20-20       1.00      1.00      1.00        12\n",
      "       28-28       1.00      1.00      1.00        10\n",
      "         DAP       1.00      1.00      1.00         8\n",
      "        Urea       1.00      1.00      1.00        14\n",
      "\n",
      "    accuracy                           1.00        62\n",
      "   macro avg       1.00      1.00      1.00        62\n",
      "weighted avg       1.00      1.00      1.00        62\n",
      "\n"
     ]
    }
   ],
   "source": [
    "from sklearn.metrics import classification_report\n",
    "cr= classification_report(y_test, y_pred)\n",
    "print(cr)"
   ]
  },
  {
   "cell_type": "code",
   "execution_count": 53,
   "id": "943b0e49-000f-4238-95df-72f28057251a",
   "metadata": {},
   "outputs": [
    {
     "name": "stdout",
     "output_type": "stream",
     "text": [
      "Decision Tree Accuracy: 0.9838709677419355\n"
     ]
    }
   ],
   "source": [
    "from sklearn.tree import DecisionTreeClassifier\n",
    "\n",
    "# Initialize the model\n",
    "dt_model = DecisionTreeClassifier(random_state=0)\n",
    "\n",
    "# Train the model\n",
    "dt_model.fit(x_train, y_train)\n",
    "\n",
    "# Make predictions\n",
    "dt_y_pred = dt_model.predict(x_test)\n",
    "\n",
    "# Evaluate the model\n",
    "dt_accuracy = dt_model.score(x_test, y_test)\n",
    "print(f'Decision Tree Accuracy: {dt_accuracy}')"
   ]
  },
  {
   "cell_type": "code",
   "execution_count": 55,
   "id": "2efed8e4-69b1-4498-bb75-5116a1bce45f",
   "metadata": {},
   "outputs": [
    {
     "name": "stdout",
     "output_type": "stream",
     "text": [
      "Gradient Boosting Accuracy: 0.9838709677419355\n"
     ]
    }
   ],
   "source": [
    "from sklearn.ensemble import GradientBoostingClassifier\n",
    "\n",
    "# Initialize the model\n",
    "gb_model = GradientBoostingClassifier(random_state=0)\n",
    "\n",
    "# Train the model\n",
    "gb_model.fit(x_train, y_train)\n",
    "\n",
    "# Make predictions\n",
    "gb_y_pred = gb_model.predict(x_test)\n",
    "\n",
    "# Evaluate the model\n",
    "gb_accuracy = gb_model.score(x_test, y_test)\n",
    "print(f'Gradient Boosting Accuracy: {gb_accuracy}')"
   ]
  },
  {
   "cell_type": "code",
   "execution_count": 56,
   "id": "ddefdbaf-6755-4b83-a7d6-e2d5af37b06d",
   "metadata": {},
   "outputs": [
    {
     "name": "stdout",
     "output_type": "stream",
     "text": [
      "SVM Model Accuracy: 0.9838709677419355\n"
     ]
    }
   ],
   "source": [
    "from sklearn.svm import SVC\n",
    "from sklearn.metrics import accuracy_score\n",
    "\n",
    "# Initialize the SVM model\n",
    "svm_model = SVC(kernel='linear', random_state=10)  # You can choose other kernels like 'rbf', 'poly', etc.\n",
    "\n",
    "# Train the model\n",
    "svm_model.fit(x_train, y_train)\n",
    "\n",
    "# Make predictions\n",
    "svm_y_pred = svm_model.predict(x_test)\n",
    "\n",
    "# Evaluate the model\n",
    "svm_accuracy = accuracy_score(y_test, svm_y_pred)\n",
    "print(f'SVM Model Accuracy: {svm_accuracy}')"
   ]
  },
  {
   "cell_type": "code",
   "execution_count": 57,
   "id": "c1fd519b-5fba-4fe2-97f4-05e0249cb2c6",
   "metadata": {},
   "outputs": [
    {
     "name": "stdout",
     "output_type": "stream",
     "text": [
      "KNN Model Accuracy: 0.967741935483871\n"
     ]
    }
   ],
   "source": [
    "from sklearn.neighbors import KNeighborsClassifier\n",
    "\n",
    "# Initialize the KNN model with a chosen number of neighbors (e.g., k=5)\n",
    "knn_model = KNeighborsClassifier(n_neighbors=5)\n",
    "\n",
    "# Train the model\n",
    "knn_model.fit(x_train, y_train)\n",
    "\n",
    "# Make predictions\n",
    "knn_y_pred = knn_model.predict(x_test)\n",
    "\n",
    "# Evaluate the model\n",
    "knn_accuracy = knn_model.score(x_test, y_test)\n",
    "print(f'KNN Model Accuracy: {knn_accuracy}')"
   ]
  },
  {
   "cell_type": "code",
   "execution_count": 58,
   "id": "8ac91381-457a-4589-aca0-17bde42c543c",
   "metadata": {},
   "outputs": [
    {
     "name": "stdout",
     "output_type": "stream",
     "text": [
      "Hybrid Ensemble Model Accuracy: 0.9838709677419355\n",
      "KNN Accuracy: 0.967741935483871\n",
      "SVM Accuracy: 0.9354838709677419\n",
      "Decision Tree Accuracy: 0.9838709677419355\n",
      "Gradient Boosting Accuracy: 0.9838709677419355\n"
     ]
    }
   ],
   "source": [
    "\n",
    "from sklearn.ensemble import VotingClassifier\n",
    "from sklearn.neighbors import KNeighborsClassifier\n",
    "from sklearn.svm import SVC\n",
    "from sklearn.tree import DecisionTreeClassifier\n",
    "from sklearn.ensemble import GradientBoostingClassifier\n",
    "\n",
    "# Initialize the models\n",
    "knn_model = KNeighborsClassifier(n_neighbors=5)\n",
    "svm_model = SVC(probability=True, random_state=10)  # Set probability=True for soft voting\n",
    "dt_model = DecisionTreeClassifier(random_state=10)\n",
    "gb_model = GradientBoostingClassifier(random_state=10)\n",
    "\n",
    "# Train the models (assuming x_train, y_train are defined)\n",
    "knn_model.fit(x_train, y_train)\n",
    "svm_model.fit(x_train, y_train)\n",
    "dt_model.fit(x_train, y_train)\n",
    "gb_model.fit(x_train, y_train)\n",
    "\n",
    "# Create an ensemble hybrid model with VotingClassifier\n",
    "hybrid_model = VotingClassifier(\n",
    "    estimators=[\n",
    "        ('knn', knn_model),\n",
    "        ('svm', svm_model),\n",
    "        ('decision_tree', dt_model),\n",
    "        ('gradient_boosting', gb_model)\n",
    "    ],\n",
    "    voting='soft'  # Use 'soft' voting for probability-based predictions\n",
    ")\n",
    "# Fit the ensemble model on the training data\n",
    "hybrid_model.fit(x_train, y_train)\n",
    "\n",
    "# Evaluate the ensemble model on the test data\n",
    "hybrid_accuracy = hybrid_model.score(x_test, y_test)\n",
    "print(f'Hybrid Ensemble Model Accuracy: {hybrid_accuracy}')\n",
    "\n",
    "# Optional: Check individual model accuracies\n",
    "models = ['KNN', 'SVM', 'Decision Tree', 'Gradient Boosting']\n",
    "accuracies = [model.score(x_test, y_test) for model in [knn_model, svm_model, dt_model, gb_model]]\n",
    "\n",
    "for m, acc in zip(models, accuracies):\n",
    "    print(f'{m} Accuracy: {acc}')"
   ]
  },
  {
   "cell_type": "code",
   "execution_count": 67,
   "id": "d47f5f62-57b9-48b2-909b-9964be5b3005",
   "metadata": {},
   "outputs": [
    {
     "name": "stdout",
     "output_type": "stream",
     "text": [
      "Hybrid Ensemble Model Accuracy: 0.9838709677419355\n"
     ]
    }
   ],
   "source": [
    "\n",
    "# Fit ensemble model on training data\n",
    "hybrid_model.fit(x_train, y_train)\n",
    "\n",
    "# Evaluate the ensemble model on test data\n",
    "hybrid_accuracy = hybrid_model.score(x_test, y_test)\n",
    "print(f'Hybrid Ensemble Model Accuracy: {hybrid_accuracy}')"
   ]
  },
  {
   "cell_type": "code",
   "execution_count": 71,
   "id": "6d069286-5cb3-44c9-9e88-ec31ee422bc0",
   "metadata": {},
   "outputs": [
    {
     "name": "stdout",
     "output_type": "stream",
     "text": [
      "The suggested fertilizer for the given conditions is: ['20-20']\n"
     ]
    }
   ],
   "source": [
    "# Example input for prediction \n",
    "input_data = np.array([[15, #15 for Temparature\n",
    "                        0, #0 for Humidity\n",
    "                        24, #24 for Moisture\n",
    "                        5, #5 for Nitrogen\n",
    "                        1, #1 for Potassium\n",
    "                        11 #11 for Phosphorous\n",
    "                      ]])\n",
    "\n",
    "# Make prediction using the hybrid model\n",
    "prediction = hybrid_model.predict(input_data)\n",
    "\n",
    "# Print the suggested fertilizer for the given conditions\n",
    "print(\"The suggested fertilizer for the given conditions is:\", prediction)"
   ]
  },
  {
   "cell_type": "code",
   "execution_count": 63,
   "id": "6fa050de-2a56-4f70-8273-7a5cbc9195a0",
   "metadata": {},
   "outputs": [
    {
     "data": {
      "text/plain": [
       "['fertilizer_model.joblib']"
      ]
     },
     "execution_count": 63,
     "metadata": {},
     "output_type": "execute_result"
    }
   ],
   "source": [
    "# import joblib\n",
    "\n",
    "# # Assuming 'hybrid_model' is your trained model\n",
    "# joblib.dump(hybrid_model, 'fertilizer_model.joblib')"
   ]
  },
  {
   "cell_type": "code",
   "execution_count": 59,
   "id": "8b0cd58d-05cb-46b4-bf5f-741bf9d0b24b",
   "metadata": {},
   "outputs": [],
   "source": [
    "# loaded_model = joblib.load('fertilizer_model.joblib')\n",
    "# prediction = loaded_model.predict(input_data)"
   ]
  },
  {
   "cell_type": "code",
   "execution_count": 61,
   "id": "9d59c084-e3ce-4865-9adb-800c82052298",
   "metadata": {},
   "outputs": [
    {
     "data": {
      "text/plain": [
       "array(['20-20'], dtype=object)"
      ]
     },
     "execution_count": 61,
     "metadata": {},
     "output_type": "execute_result"
    }
   ],
   "source": [
    "# prediction"
   ]
  },
  {
   "cell_type": "code",
   "execution_count": null,
   "id": "f2ea3b01-d3bd-43bf-a369-3a8f25f8845f",
   "metadata": {},
   "outputs": [],
   "source": []
  }
 ],
 "metadata": {
  "kernelspec": {
   "display_name": "Python 3 (ipykernel)",
   "language": "python",
   "name": "python3"
  },
  "language_info": {
   "codemirror_mode": {
    "name": "ipython",
    "version": 3
   },
   "file_extension": ".py",
   "mimetype": "text/x-python",
   "name": "python",
   "nbconvert_exporter": "python",
   "pygments_lexer": "ipython3",
   "version": "3.12.4"
  }
 },
 "nbformat": 4,
 "nbformat_minor": 5
}
